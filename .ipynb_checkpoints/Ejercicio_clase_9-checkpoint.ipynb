{
 "cells": [
  {
   "cell_type": "markdown",
   "metadata": {},
   "source": [
    "<img style=\"float: left; margin: 30px 15px 15px 15px;\" src=\"https://pngimage.net/wp-content/uploads/2018/06/logo-iteso-png-5.png\" width=\"300\" height=\"500\" /> \n",
    "    \n",
    "    \n",
    "### <font color='navy'> Simulación de procesos financieros. \n",
    "\n",
    "**Nombres:** Karla Anton ,\n",
    "             Anehi Karely Mayorquin.\n",
    "\n",
    "**Fecha:** 06 de octubre del 2020.\n",
    "\n",
    "**Expediente** : Karely = if707468 , Karla= if714572.\n",
    "    \n",
    "**Profesor:** Oscar David Jaramillo Zuluaga.\n",
    "\n",
    "# Tarea 4: Clase 9\n",
    "\n",
    "Link: https://github.com/anehik/ProyectoConjunto_AKMayorquin_KAnton"
   ]
  },
  {
   "cell_type": "code",
   "execution_count": 7,
   "metadata": {},
   "outputs": [],
   "source": [
    "import numpy as np\n",
    "import math\n",
    "import matplotlib.pyplot as plt\n",
    "from scipy import optimize"
   ]
  },
  {
   "cell_type": "markdown",
   "metadata": {},
   "source": [
    "> 1. Generación variable aleatoria continua\n",
    ">El tiempo en el cual un movimiento browniano se mantiene sobre su punto máximo en el intervalo [0,1] tiene una distribución\n",
    ">$$F(x)=\\frac{2}{\\pi}\\sin^{-1}(\\sqrt x),\\quad 0\\leq x\\leq 1$$ </font>"
   ]
  },
  {
   "cell_type": "code",
   "execution_count": 8,
   "metadata": {},
   "outputs": [
    {
     "data": {
      "image/png": "[encoded data removed]",
      "text/plain": [
       "<Figure size 432x288 with 1 Axes>"
      ]
     },
     "metadata": {},
     "output_type": "display_data"
    }
   ],
   "source": [
    "#Solución Karely\n",
    "# Se nos da la función de prob acumulada, por tanto esa se utiliza para generar los aleatorios\n",
    "# Para comprobar, se deriva para sacar f(x), y los puntos generados deben estar bajo esta curva\n",
    "u = np.random.rand(1000)\n",
    "fx = np.sin(np.pi/2 * u)**2\n",
    "\n",
    "x = np.arange(0.01,0.99,0.001)\n",
    "y = 1/(np.pi*np.sqrt(x)*np.sqrt(1-x))\n",
    "plt.plot(x,y, color = 'black')\n",
    "plt.hist(fx, 100, density=True, color = 'green')\n",
    "plt.title('Histograma')\n",
    "plt.show()"
   ]
  },
  {
   "cell_type": "code",
   "execution_count": 9,
   "metadata": {},
   "outputs": [
    {
     "data": {
      "image/png": "[encoded data removed]",
      "text/plain": [
       "<Figure size 432x288 with 1 Axes>"
      ]
     },
     "metadata": {},
     "output_type": "display_data"
    }
   ],
   "source": [
    "#Solución Karla\n",
    "u = np.random.rand(1000)\n",
    "fx = np.sin(np.pi/2 * u)**2\n",
    "x = np.arange(0.01,0.99,0.001)\n",
    "y = 1/(np.pi*np.sqrt(x)*np.sqrt(1-x))\n",
    "plt.plot(x,y, color = 'black')\n",
    "plt.hist(fx, 100, density=True, color = 'green')\n",
    "plt.title('Histograma')\n",
    "plt.show()"
   ]
  },
  {
   "cell_type": "markdown",
   "metadata": {},
   "source": [
    "> 2. Generación variable aleatoria Discreta\n",
    "> La distribución binomial modela el número de éxitos de n ensayos independientes donde hay una probabilidad p de éxito en cada ensayo.\n",
    "> Generar una variable aletoria binomial con parámetros $n=10$ y $p=0.7$. Recordar que $$X\\sim binomial(n,p) \\longrightarrow p_i=P(X=i)=\\frac{n!}{i!(n-i)!}p^i(1-p)^{n-i},\\quad i=0,1,\\cdots,n$$\n",
    "> Por propiedades de la operación factorial la anterior $p_i$ se puede escribir como:\n",
    "> $$p_{i+1}=\\frac{n-i}{i+1}\\frac{p}{1-p} p_i $$"
   ]
  },
  {
   "cell_type": "code",
   "execution_count": 10,
   "metadata": {},
   "outputs": [],
   "source": [
    "#Solución Karely\n",
    "# Función que calcula la probabilidad acumulada optimizada\n",
    "def fun_bin_opt(n,p):\n",
    "    global matriz\n",
    "    matriz = np.zeros(n)\n",
    "    matriz[0] = (1-p)**n\n",
    "    def m(i):\n",
    "        global matriz\n",
    "        c  = p/(1-p)\n",
    "        matriz[i+1]=(c*(n-i)/(i+1))*matriz[i]\n",
    "        \n",
    "    \n",
    "    [m(i) for i in range(n-1)] #Se va llenando el vector \"matriz\"\n",
    "    return np.cumsum(matriz)"
   ]
  },
  {
   "cell_type": "code",
   "execution_count": 11,
   "metadata": {},
   "outputs": [
    {
     "data": {
      "image/png": "[encoded data removed]",
      "text/plain": [
       "<Figure size 936x288 with 2 Axes>"
      ]
     },
     "metadata": {},
     "output_type": "display_data"
    }
   ],
   "source": [
    "# def D_binomial_intermedia(n,p,N):\n",
    "n = 10; p = 0.7; N = 10**4\n",
    "\n",
    "binomial = fun_bin_opt(n,p) #funcion optimizada\n",
    "u = np.random.rand(N)\n",
    "\n",
    "# Gráfica de resultados con nuestra funcion \n",
    "plt.figure(figsize=[13,4])\n",
    "plt.subplot(121)\n",
    "binomial_n = list(map(lambda j:sum(1 for i in binomial if i<u[j]),range(N)))\n",
    "plt.hist(binomial_n,100,density=True,label='Usando nuestra funcion')\n",
    "plt.legend()\n",
    "\n",
    "# Con la libreria de numpy\n",
    "plt.subplot(122)\n",
    "bin_numpy = np.random.binomial(n,p,N)\n",
    "plt.hist(bin_numpy,100,density=True,label='Usando librerias')\n",
    "plt.legend()\n",
    "np.histogram\n",
    "plt.show()"
   ]
  },
  {
   "cell_type": "code",
   "execution_count": 12,
   "metadata": {},
   "outputs": [],
   "source": [
    "#Solución Karla\n",
    "def fun_bin_opt(n,p):\n",
    "    global matriz\n",
    "    matriz = np.zeros(n)\n",
    "    matriz[0] = (1-p)**n\n",
    "    def m(i):\n",
    "        global matriz\n",
    "        c  = p/(1-p)\n",
    "        matriz[i+1]=(c*(n-i)/(i+1))*matriz[i]\n",
    "        \n",
    "    \n",
    "    [m(i) for i in range(n-1)] #Se va llenando el vector \"matriz\"\n",
    "    return np.cumsum(matriz)"
   ]
  },
  {
   "cell_type": "code",
   "execution_count": 13,
   "metadata": {},
   "outputs": [
    {
     "data": {
      "image/png": "[encoded data removed]",
      "text/plain": [
       "<Figure size 936x288 with 2 Axes>"
      ]
     },
     "metadata": {},
     "output_type": "display_data"
    }
   ],
   "source": [
    "# def D_binomial_intermedia(n,p,N):\n",
    "n = 10; p = 0.7; N = 10**4\n",
    "\n",
    "binomial = fun_bin_opt(n,p) #funcion optimizada\n",
    "u = np.random.rand(N)\n",
    "\n",
    "# Gráfica de resultados con nuestra funcion \n",
    "plt.figure(figsize=[13,4])\n",
    "plt.subplot(121)\n",
    "binomial_n = list(map(lambda j:sum(1 for i in binomial if i<u[j]),range(N)))\n",
    "plt.hist(binomial_n,100,density=True,label='Usando nuestra funcion')\n",
    "plt.legend()\n",
    "\n",
    "# Con la libreria de numpy\n",
    "plt.subplot(122)\n",
    "bin_numpy = np.random.binomial(n,p,N)\n",
    "plt.hist(bin_numpy,100,density=True,label='Usando librerias')\n",
    "plt.legend()\n",
    "np.histogram\n",
    "plt.show()"
   ]
  },
  {
   "cell_type": "markdown",
   "metadata": {},
   "source": [
    "> **Nota:** Por notación recuerde que para el caso continuo $f(x)$ es la distribución de probabilidad (PDF), mientras $F(x)$ corresponde a la distribución de probabilidad acumulada (CDF). Para el caso discreto, $P(X=i)$ corresponde a su distribución de probabilidad (PMF) y $ F_{X}(x)=\\operatorname {P} (X\\leq x)=\\sum _{x_{i}\\leq x}\\operatorname {P} (X=x_{i})=\\sum _{x_{i}\\leq x}p(x_{i})$, corresponde a su distribución de probabilidad acumulada (CDF)."
   ]
  }
 ],
 "metadata": {
  "kernelspec": {
   "display_name": "Python 3",
   "language": "python",
   "name": "python3"
  },
  "language_info": {
   "codemirror_mode": {
    "name": "ipython",
    "version": 3
   },
   "file_extension": ".py",
   "mimetype": "text/x-python",
   "name": "python",
   "nbconvert_exporter": "python",
   "pygments_lexer": "ipython3",
   "version": "3.6.5"
  }
 },
 "nbformat": 4,
 "nbformat_minor": 4
}
